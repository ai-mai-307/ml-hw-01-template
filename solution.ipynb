{
 "cells": [
  {
   "cell_type": "markdown",
   "id": "a2581153",
   "metadata": {},
   "source": [
    "# Домашнее задание №1. Предварительный анализ данных.\n",
    "\n",
    "Задание выполнила команда № (напишите номер)."
   ]
  },
  {
   "cell_type": "markdown",
   "id": "d130b5b7",
   "metadata": {},
   "source": [
    "## Необходимые зависимости"
   ]
  },
  {
   "cell_type": "code",
   "execution_count": null,
   "id": "66263ec5",
   "metadata": {
    "vscode": {
     "languageId": "plaintext"
    }
   },
   "outputs": [],
   "source": [
    "import pandas as pd \n",
    "import numpy as np\n",
    "import matplotlib.pyplot as plt "
   ]
  },
  {
   "cell_type": "code",
   "execution_count": null,
   "id": "3052ac38",
   "metadata": {
    "vscode": {
     "languageId": "plaintext"
    }
   },
   "outputs": [],
   "source": [
    "## Загружаем датасет"
   ]
  },
  {
   "cell_type": "code",
   "execution_count": null,
   "id": "1a411f0a",
   "metadata": {
    "vscode": {
     "languageId": "plaintext"
    }
   },
   "outputs": [],
   "source": [
    "orphans_data =  ..."
   ]
  },
  {
   "cell_type": "markdown",
   "id": "10dcf912",
   "metadata": {},
   "source": [
    "## Первый взгляд на данные"
   ]
  },
  {
   "cell_type": "code",
   "execution_count": null,
   "id": "b13282c6",
   "metadata": {
    "vscode": {
     "languageId": "plaintext"
    }
   },
   "outputs": [],
   "source": []
  }
 ],
 "metadata": {
  "language_info": {
   "name": "python"
  }
 },
 "nbformat": 4,
 "nbformat_minor": 5
}
